{
 "cells": [
  {
   "cell_type": "markdown",
   "metadata": {},
   "source": [
    "# Task 1 "
   ]
  },
  {
   "cell_type": "code",
   "execution_count": 29,
   "metadata": {},
   "outputs": [],
   "source": [
    "#1 \n",
    "x,y,z =1,2.3,'wdwe' "
   ]
  },
  {
   "cell_type": "code",
   "execution_count": 35,
   "metadata": {},
   "outputs": [],
   "source": [
    "#2\n",
    "x = 1j\n",
    "y = 4 \n",
    "x,y = y,x"
   ]
  },
  {
   "cell_type": "code",
   "execution_count": 46,
   "metadata": {},
   "outputs": [],
   "source": [
    "#3 \n",
    "x = 5\n",
    "y = 10\n",
    "z = x\n",
    "x = y\n",
    "y = z\n"
   ]
  },
  {
   "cell_type": "code",
   "execution_count": 53,
   "metadata": {},
   "outputs": [],
   "source": [
    "# 4 \n",
    "def print_user():\n",
    "    print(input())\n",
    "#def print_user1():\n",
    "    #print(raw_input())    "
   ]
  },
  {
   "cell_type": "code",
   "execution_count": 84,
   "metadata": {},
   "outputs": [],
   "source": [
    "# 5 \n",
    "def print_user():\n",
    "    z = 30\n",
    "    x,y = input('enter two number b/w 1 and 10').split()\n",
    "    result  = int(x)+int(y) + z\n",
    "    return result "
   ]
  },
  {
   "cell_type": "code",
   "execution_count": 95,
   "metadata": {},
   "outputs": [],
   "source": [
    "#6\n",
    "def check():\n",
    "    z = eval(input())\n",
    "    print(\"The input value data type is:\",type(z))"
   ]
  },
  {
   "cell_type": "code",
   "execution_count": 98,
   "metadata": {},
   "outputs": [],
   "source": [
    "# 8 \n",
    "# yes because python lets us create variable by simply assighing values instead of declaring them first "
   ]
  },
  {
   "cell_type": "markdown",
   "metadata": {},
   "source": [
    "# Task 2 "
   ]
  },
  {
   "cell_type": "code",
   "execution_count": 10,
   "metadata": {},
   "outputs": [],
   "source": [
    "def func(n):\n",
    "    if n%3==0 and n%5!=0 :\n",
    "        print('consultadd')\n",
    "    if  n%5==0 and n%3!=0:\n",
    "        print('c')\n",
    "    if   n%3==0 and n%5==0:\n",
    "        print('consultadd python training')"
   ]
  },
  {
   "cell_type": "code",
   "execution_count": 40,
   "metadata": {},
   "outputs": [],
   "source": [
    "def func():\n",
    "    print(\"Please select operation -\\n\"  \n",
    "        \"1. Add\\n\"  \n",
    "        \"2. Subtract\\n\"  \n",
    "        \"3. Multiply\\n\" \n",
    "        \"4. Divide\\n\"\n",
    "        \"5. Average\\n\")\n",
    "    select = input(\"Select operations form 1, 2, 3, 4,5 :\") \n",
    "    number_1 = int(input(\"Enter first number: \")) \n",
    "    number_2 = int(input(\"Enter second number: \"))\n",
    "    if select == '1':\n",
    "        print(number_1 + number_2) \n",
    "  \n",
    "    elif select == '2': \n",
    "        print(number_1 - number_2) \n",
    "  \n",
    "    elif select == '3': \n",
    "        print(number_1*number_2) \n",
    "  \n",
    "    elif select == '4': \n",
    "        print(number_1/number_2)\n",
    "    \n",
    "    elif select == '5':\n",
    "        print('enter two more numbers')\n",
    "        number_3 = int(input(\"Enter third number: \")) \n",
    "        number_4 = int(input(\"Enter fourth number: \"))\n",
    "        print((number_1+number_2+number_3+number_4)/4)\n",
    "\n",
    "    "
   ]
  },
  {
   "cell_type": "code",
   "execution_count": 42,
   "metadata": {},
   "outputs": [
    {
     "name": "stdout",
     "output_type": "stream",
     "text": [
      "Please select operation -\n",
      "1. Add\n",
      "2. Subtract\n",
      "3. Multiply\n",
      "4. Divide\n",
      "5. Average\n",
      "\n",
      "Select operations form 1, 2, 3, 4,5 :5\n",
      "Enter first number: 1\n",
      "Enter second number: 2\n",
      "enter two more numbers\n",
      "Enter third number: 3\n",
      "Enter fourth number: 4\n",
      "2.5\n"
     ]
    }
   ],
   "source": [
    "func()"
   ]
  },
  {
   "cell_type": "code",
   "execution_count": 43,
   "metadata": {},
   "outputs": [],
   "source": [
    "def func():\n",
    "    a,b,c = 10,20,30\n",
    "    avg = (a+b+c)/3\n",
    "    print('avg =',avg)\n",
    "    if avg >a and avg >b and avg>c :\n",
    "        print('avg is higher than a,b,c')\n",
    "    else:\n",
    "        if avg > a and avg >b:\n",
    "            print('avg is higher than a,b,c')\n",
    "        else:\n",
    "            if avg > a and avg>c:\n",
    "                print('avg is higher than a,c')\n",
    "            else:\n",
    "                if avg> b and avg >c :\n",
    "                    print('avg is higher than b,c')\n",
    "                else:\n",
    "                    if avg > a :\n",
    "                        print('avg is just higher than a')\n",
    "                    else:\n",
    "                        if avg > b:\n",
    "                            print('avg is just higer than b')\n",
    "                        else:\n",
    "                            if avg > c:\n",
    "                                print('avg is higher than c')\n",
    "                \n",
    "     \n",
    "    "
   ]
  },
  {
   "cell_type": "code",
   "execution_count": 56,
   "metadata": {},
   "outputs": [],
   "source": [
    "def func():\n",
    "    for i in range(2000,3200):\n",
    "        if i%7 ==0 and i%5 !=0:\n",
    "            print(i)\n"
   ]
  },
  {
   "cell_type": "code",
   "execution_count": 68,
   "metadata": {},
   "outputs": [],
   "source": [
    "# outputs \n",
    "#'int' object is not iterable\n",
    "#0\n",
    "#error\n",
    "#1\n",
    "#error\n",
    "#2\n",
    "#0\n",
    "#1\n",
    "#2\n",
    "#3\n",
    "#4"
   ]
  },
  {
   "cell_type": "code",
   "execution_count": 72,
   "metadata": {},
   "outputs": [],
   "source": [
    "for i in range(0,6):\n",
    "    if i==3:\n",
    "        continue\n",
    "        print(i)\n",
    " ##  here        "
   ]
  },
  {
   "cell_type": "code",
   "execution_count": 53,
   "metadata": {},
   "outputs": [],
   "source": [
    " n = [1, 2, 3], [4, 5], [6, 7] \n",
    "def concat(n):\n",
    "    return [p for i in n for k in n]     \n",
    "            \n",
    "    \n",
    "    \n",
    "    "
   ]
  },
  {
   "cell_type": "code",
   "execution_count": 62,
   "metadata": {},
   "outputs": [],
   "source": [
    "def func():\n",
    "    x = input()\n",
    "    l = 0\n",
    "    d= 0\n",
    "    for i in x:\n",
    "        if i.isalpha():\n",
    "            l=l+1      \n",
    "        if i.isdigit():\n",
    "            d = d+1\n",
    "    print('letters',l)\n",
    "    print('digits',d)\n"
   ]
  },
  {
   "cell_type": "code",
   "execution_count": 80,
   "metadata": {},
   "outputs": [
    {
     "name": "stdout",
     "output_type": "stream",
     "text": [
      "Guess the lucky number5\n"
     ]
    }
   ],
   "source": [
    "# lucky number \n",
    "number = input(\"Guess the lucky number\")\n",
    "while number != '5':\n",
    "    print (\"That is not the lucky number\")\n",
    "    number = input(\"Guess the lucky number\")\n",
    "    "
   ]
  },
  {
   "cell_type": "code",
   "execution_count": 82,
   "metadata": {},
   "outputs": [
    {
     "name": "stdout",
     "output_type": "stream",
     "text": [
      "Guess the lucky number5\n",
      "do you want to guess again\n",
      "Guess the lucky numberno\n"
     ]
    }
   ],
   "source": [
    "number = input(\"Guess the lucky number\")\n",
    "while number != '5' or answer != 'no':\n",
    "    print (\"do you want to guess again\")\n",
    "    answer = input(\"Guess the lucky number\")\n",
    "    "
   ]
  },
  {
   "cell_type": "code",
   "execution_count": 90,
   "metadata": {},
   "outputs": [
    {
     "name": "stdout",
     "output_type": "stream",
     "text": [
      "Guess the 1. number 1\n",
      "Try again.\n",
      "Guess the 2. number 2\n",
      "Try again.\n",
      "Guess the 3. number 3\n",
      "Try again.\n",
      "Guess the 4. number 3\n",
      "Try again.\n",
      "Guess the 5. number 4\n",
      "Try again.\n",
      "Game over\n"
     ]
    }
   ],
   "source": [
    "# part two \n",
    "counter = 1\n",
    "while counter <= 5:\n",
    "    number = input(\"Guess the \" + str(counter) + \". number \")\n",
    "    if number != '5':\n",
    "        print (\"Try again.\")\n",
    "    else:\n",
    "        print (\"Good guess!\")\n",
    "    counter = counter +1\n",
    "else:\n",
    "    print (\"Game over\")\n",
    "    "
   ]
  },
  {
   "cell_type": "markdown",
   "metadata": {},
   "source": [
    "# Task 3\n",
    "### plus additional practice questions "
   ]
  },
  {
   "cell_type": "code",
   "execution_count": 91,
   "metadata": {},
   "outputs": [],
   "source": [
    "k = [1,2,3,3,'efw','23','ef',4j,7.7]"
   ]
  },
  {
   "cell_type": "code",
   "execution_count": 123,
   "metadata": {},
   "outputs": [
    {
     "data": {
      "text/plain": [
       "[1, 3, 4]"
      ]
     },
     "execution_count": 123,
     "metadata": {},
     "output_type": "execute_result"
    }
   ],
   "source": [
    "k = [1,2,3,4,4,9]\n",
    "k[::2]"
   ]
  },
  {
   "cell_type": "code",
   "execution_count": 124,
   "metadata": {},
   "outputs": [],
   "source": [
    "def func():\n",
    "    from functools import reduce\n",
    "    print(sum(k))\n",
    "    return reduce(lambda x,y: x*y,k)"
   ]
  },
  {
   "cell_type": "code",
   "execution_count": 127,
   "metadata": {},
   "outputs": [
    {
     "data": {
      "text/plain": [
       "9"
      ]
     },
     "execution_count": 127,
     "metadata": {},
     "output_type": "execute_result"
    }
   ],
   "source": [
    "min(k)\n",
    "max(k)"
   ]
  },
  {
   "cell_type": "code",
   "execution_count": 143,
   "metadata": {},
   "outputs": [],
   "source": [
    "k = [1,2,3,4,4,9]\n",
    "def func():\n",
    "    p = []\n",
    "    for i in k:\n",
    "        if i%2 !=0:\n",
    "            p.append(i)\n",
    "    return p   \n",
    "            "
   ]
  },
  {
   "cell_type": "code",
   "execution_count": 167,
   "metadata": {},
   "outputs": [],
   "source": [
    "def func():\n",
    "    k = []\n",
    "    for i in range(1,30):\n",
    "        k.append(i**2)\n",
    "    p = k[:5] + k [-5:]   \n",
    "    return p  \n"
   ]
  },
  {
   "cell_type": "code",
   "execution_count": 188,
   "metadata": {},
   "outputs": [],
   "source": [
    "k1 = [[1,3,5,7,9,10],[2,4,6,8]]\n",
    "t1 = []\n",
    "t2 = [] \n",
    "for i,v in enumerate(k1):\n",
    "    if i == 0:\n",
    "        t1.append(v)\n",
    "    if i ==1:\n",
    "        t2.append(v)\n"
   ]
  },
  {
   "cell_type": "code",
   "execution_count": 190,
   "metadata": {},
   "outputs": [
    {
     "name": "stdout",
     "output_type": "stream",
     "text": [
      "([1, 3, 5, 7, 9, 10], [2, 4, 6, 8])\n"
     ]
    }
   ],
   "source": [
    "for i in zip(t1,t2):\n",
    "    print(i)"
   ]
  },
  {
   "cell_type": "code",
   "execution_count": 230,
   "metadata": {},
   "outputs": [],
   "source": [
    "k1 = [[1,3,5,7,9,10],[2,4,6,8]]\n",
    "t = k1[0][:-1] + k1[1]\n",
    "# t is the answer "
   ]
  },
  {
   "cell_type": "code",
   "execution_count": null,
   "metadata": {},
   "outputs": [],
   "source": [
    "### answer "
   ]
  },
  {
   "cell_type": "code",
   "execution_count": 285,
   "metadata": {},
   "outputs": [],
   "source": [
    "lst1, lst2, lst3, lst4 =  [0, 1, 0], [0, 1, 2], [0, 2, 0], [2, 1, 0]\n",
    "def count_identical_lists(lst1, lst2, lst3, lst4):\n",
    "    from collections import Counter \n",
    "    count = 0\n",
    "    k = [lst1, lst2, lst3, lst4]\n",
    "    x = Counter([tuple(i) for i in k])\n",
    "    o = []\n",
    "    for i,v in x.items():\n",
    "        o.append(v)\n",
    "    if max(o) ==1:\n",
    "        return 0\n",
    "    else: \n",
    "        return max(o)\n",
    "        \n",
    "\n"
   ]
  },
  {
   "cell_type": "code",
   "execution_count": 286,
   "metadata": {},
   "outputs": [
    {
     "data": {
      "text/plain": [
       "0"
      ]
     },
     "execution_count": 286,
     "metadata": {},
     "output_type": "execute_result"
    }
   ],
   "source": [
    "count_identical_lists(lst1, lst2, lst3, lst4)"
   ]
  },
  {
   "cell_type": "code",
   "execution_count": 282,
   "metadata": {},
   "outputs": [
    {
     "name": "stdout",
     "output_type": "stream",
     "text": [
      "(0, 0, 0)\n",
      "(0, 1, 2)\n",
      "(0, 0, 0)\n",
      "(2, 1, 0)\n"
     ]
    }
   ],
   "source": [
    "from collections import Counter\n",
    "# Input list initialization \n",
    "lst = [[0, 1, 0], [0, 1, 2], [0, 2, 0], [2, 1, 0]] \n",
    "  \n",
    "for i in k:\n",
    "    print(tuple(i))"
   ]
  },
  {
   "cell_type": "code",
   "execution_count": 308,
   "metadata": {},
   "outputs": [],
   "source": [
    "num = 2\n",
    "def factorial(num):\n",
    "    from functools import reduce\n",
    "    k = []\n",
    "    for i in range(1,num+1):\n",
    "        k.append(i)\n",
    "    m = reduce(lambda x,y:x*y,k) \n",
    "    return m \n",
    "        \n",
    "    "
   ]
  },
  {
   "cell_type": "code",
   "execution_count": 327,
   "metadata": {},
   "outputs": [],
   "source": [
    "txt = \"ooxx\"\n",
    "def XO(txt):\n",
    "    txt =txt.lower() \n",
    "    c= 0\n",
    "    d = 0\n",
    "    for i in txt:\n",
    "        if i== 'o':\n",
    "            c= c+1\n",
    "        if  i == 'x':\n",
    "            d = d+1\n",
    "    if d ==c:\n",
    "        return True\n",
    "    else:\n",
    "        return False\n",
    "            \n",
    "            \n",
    "    "
   ]
  },
  {
   "cell_type": "code",
   "execution_count": 328,
   "metadata": {},
   "outputs": [
    {
     "data": {
      "text/plain": [
       "True"
      ]
     },
     "execution_count": 328,
     "metadata": {},
     "output_type": "execute_result"
    }
   ],
   "source": [
    "XO(txt)"
   ]
  },
  {
   "cell_type": "code",
   "execution_count": 343,
   "metadata": {},
   "outputs": [],
   "source": [
    "lst = []\n",
    "def index_multiplier(lst):\n",
    "    if len(lst) ==0:\n",
    "        return 0\n",
    "    else:\n",
    "        \n",
    "        from functools import reduce\n",
    "        k = []\n",
    "        for i,v in enumerate(lst):\n",
    "             k.append(i*v)\n",
    "        m = reduce(lambda x,y: x+y,k) \n",
    "        return m \n",
    "    "
   ]
  },
  {
   "cell_type": "code",
   "execution_count": 361,
   "metadata": {},
   "outputs": [],
   "source": [
    "txt = \"13 > 44 > 33 > 1\"\n",
    "def correct_signs(txt):\n",
    "    return (eval(txt))\n",
    "    "
   ]
  },
  {
   "cell_type": "code",
   "execution_count": 362,
   "metadata": {},
   "outputs": [
    {
     "data": {
      "text/plain": [
       "False"
      ]
     },
     "execution_count": 362,
     "metadata": {},
     "output_type": "execute_result"
    }
   ],
   "source": [
    "correct_signs(txt)"
   ]
  },
  {
   "cell_type": "code",
   "execution_count": 411,
   "metadata": {},
   "outputs": [],
   "source": [
    "lst = [None]\n",
    "def empty_values(lst):\n",
    "    k = []\n",
    "    for i in lst:\n",
    "        if type(i) == int:\n",
    "            k.append(0)\n",
    "        if type(i) == float:\n",
    "            k.append(0.0)\n",
    "        if type(i) == str:\n",
    "            k.append('')\n",
    "        if type(i) == bool:\n",
    "            k.append(False)\n",
    "        if type(i) == list:\n",
    "            k.append([])\n",
    "        if type(i) == tuple:\n",
    "            k.append(())\n",
    "        if type(i) == set:\n",
    "            k.append(set())\n",
    "        if type(i) == \"NoneType\":\n",
    "            k.append('NoneccsType')\n",
    "    return k "
   ]
  },
  {
   "cell_type": "code",
   "execution_count": 1,
   "metadata": {},
   "outputs": [],
   "source": [
    "def merge_two_dicts(x, y):\n",
    "    z = x.copy()   # start with x's keys and values\n",
    "    z.update(y)    # modifies z with y's keys and values & returns None\n",
    "    return z"
   ]
  },
  {
   "cell_type": "code",
   "execution_count": 2,
   "metadata": {},
   "outputs": [],
   "source": [
    "a={1:10,2:20}\n",
    "b ={3:30,4:40}\n",
    "\n",
    "z = merge_two_dicts(a, b)"
   ]
  },
  {
   "cell_type": "code",
   "execution_count": 7,
   "metadata": {},
   "outputs": [],
   "source": [
    "num = 5\n",
    "d = {}\n",
    "for i in range(num):\n",
    "    d[i]= i*i"
   ]
  },
  {
   "cell_type": "code",
   "execution_count": 27,
   "metadata": {},
   "outputs": [],
   "source": [
    "num = 34,67,55,33,12,98\n",
    "def func(num):\n",
    "    k = [] \n",
    "    for i in num:\n",
    "        k.append(str(i))\n",
    "    t = tuple(k)\n",
    "    print(t,k)\n",
    "\n",
    "\n",
    "\n",
    "  \n",
    "        \n",
    "    "
   ]
  },
  {
   "cell_type": "markdown",
   "metadata": {},
   "source": [
    "# Weekend Activity"
   ]
  },
  {
   "cell_type": "code",
   "execution_count": 53,
   "metadata": {},
   "outputs": [],
   "source": [
    "x=[100,200,300,400,500,[1,2,3,4,5,[10,20,30,40,50],6,7,8,9],600,700,800]\n",
    "# Access list [1, 2, 3, 4]\n",
    "k = x[5]"
   ]
  },
  {
   "cell_type": "code",
   "execution_count": 70,
   "metadata": {},
   "outputs": [],
   "source": [
    "def access():\n",
    "    p = []\n",
    "    for i,v in enumerate(k):\n",
    "        if i < 4:\n",
    "            p.append(v)\n",
    "    return p \n",
    "\n",
    "   "
   ]
  },
  {
   "cell_type": "code",
   "execution_count": 81,
   "metadata": {},
   "outputs": [
    {
     "data": {
      "text/plain": [
       "10"
      ]
     },
     "execution_count": 81,
     "metadata": {},
     "output_type": "execute_result"
    }
   ],
   "source": [
    "x[5][0:4]\n",
    "x[6:8]\n",
    "x[::2]\n",
    "x[5][5][0]"
   ]
  },
  {
   "cell_type": "code",
   "execution_count": 95,
   "metadata": {},
   "outputs": [],
   "source": [
    "def func():\n",
    "    for i in range(0,1100):\n",
    "        if i%2 ==0 and i%3==0:\n",
    "            print(i)        \n"
   ]
  },
  {
   "cell_type": "code",
   "execution_count": 113,
   "metadata": {},
   "outputs": [],
   "source": [
    "k = 'sdfca'\n",
    "def reverse():\n",
    "    print(k[::-1])\n",
    "    vowels = [\"a\", \"e\", \"i\", \"o\", \"u\", \"A\", \"E\", \"I\", \"O\", \"U\"]\n",
    "    d= {}\n",
    "    for i,v in enumerate(k):\n",
    "        if v in vowels:\n",
    "            d[i] = v\n",
    "    return d      \n"
   ]
  },
  {
   "cell_type": "code",
   "execution_count": 115,
   "metadata": {},
   "outputs": [],
   "source": [
    "k = 'hello my name is abcde'\n",
    "def func():\n",
    "    d = {}\n",
    "    for i,v in enumerate(k):\n",
    "        if i%2==0:\n",
    "            d[i] = v\n",
    "    return d         \n",
    "            \n",
    "        "
   ]
  },
  {
   "cell_type": "code",
   "execution_count": 116,
   "metadata": {},
   "outputs": [
    {
     "data": {
      "text/plain": [
       "{0: 'h',\n",
       " 2: 'l',\n",
       " 4: 'o',\n",
       " 6: 'm',\n",
       " 8: ' ',\n",
       " 10: 'a',\n",
       " 12: 'e',\n",
       " 14: 'i',\n",
       " 16: ' ',\n",
       " 18: 'b',\n",
       " 20: 'd'}"
      ]
     },
     "execution_count": 116,
     "metadata": {},
     "output_type": "execute_result"
    }
   ],
   "source": [
    "func()"
   ]
  },
  {
   "cell_type": "code",
   "execution_count": 209,
   "metadata": {},
   "outputs": [
    {
     "name": "stdout",
     "output_type": "stream",
     "text": [
      "(1, 5)\n",
      "(2, 4)\n",
      "(7, -1)\n"
     ]
    }
   ],
   "source": [
    "def printPairs(arr, n, num): \n",
    "  \n",
    "    # count = 0  \n",
    "  \n",
    "    # Consider all possible  \n",
    "    # pairs and check their sums \n",
    "    for i in range(0, n ): \n",
    "        for j in range(i + 1, n ): \n",
    "            if (arr[i] + arr[j] == sum): \n",
    "                print(\"(\", arr[i],  \n",
    "                      \", \", arr[j],  \n",
    "                      \")\", sep = \"\") \n",
    "  \n",
    "  \n",
    "# Driver Code \n",
    "arr = x=[1,2,3,4,5,6,7,8,9,-1] \n",
    "n = len(arr) \n",
    "num = 6\n",
    "printPairs(arr, n, num) \n",
    "    "
   ]
  },
  {
   "cell_type": "code",
   "execution_count": 148,
   "metadata": {},
   "outputs": [],
   "source": [
    "def func():\n",
    "    e = []\n",
    "    o = []\n",
    "    ec = 0\n",
    "    oc = 0\n",
    "    ed = {}\n",
    "    while ec < 6 and oc < 6: \n",
    "        x= int(input())\n",
    "        if x%2==0:\n",
    "            e.append(x)\n",
    "            ec = ec+1  \n",
    "        else:\n",
    "            o.append(x)\n",
    "            oc = oc +1\n",
    "    for i in e:\n",
    "        ed[i] = i*i\n",
    "    return ed    \n",
    "    \n",
    "    \n",
    "    "
   ]
  },
  {
   "cell_type": "code",
   "execution_count": 152,
   "metadata": {},
   "outputs": [],
   "source": [
    "s =\"12abcbacbaba344ab\" \n",
    "def occurance():\n",
    "    d = {}\n",
    "    for i in s:\n",
    "        d[i] = s.count(i)\n",
    "    return d    \n",
    "        \n",
    "        \n",
    "    "
   ]
  },
  {
   "cell_type": "markdown",
   "metadata": {},
   "source": [
    "s =\"12abcbacbaba344ab\"\n"
   ]
  },
  {
   "cell_type": "code",
   "execution_count": 161,
   "metadata": {},
   "outputs": [],
   "source": [
    "s = (1,2,3,4,5,6,7,8,9,10)\n",
    "p = []\n",
    "for i in s:\n",
    "    if i %2 ==0:\n",
    "        p.append(i)\n",
    "p = tuple(p)        "
   ]
  },
  {
   "cell_type": "code",
   "execution_count": 178,
   "metadata": {},
   "outputs": [],
   "source": [
    "# extra \n",
    "wheels, bodies, figures  = (37, 15, 20)\n",
    "def cars(wheels, bodies, figures):\n",
    "\treturn min(wheels // 4, bodies, figures // 2)"
   ]
  },
  {
   "cell_type": "code",
   "execution_count": 179,
   "metadata": {},
   "outputs": [
    {
     "data": {
      "text/plain": [
       "9"
      ]
     },
     "execution_count": 179,
     "metadata": {},
     "output_type": "execute_result"
    }
   ],
   "source": [
    "cars(wheels, bodies, figures)"
   ]
  },
  {
   "cell_type": "code",
   "execution_count": 180,
   "metadata": {},
   "outputs": [
    {
     "data": {
      "text/plain": [
       "8"
      ]
     },
     "execution_count": 180,
     "metadata": {},
     "output_type": "execute_result"
    }
   ],
   "source": [
    "min(10,101,8)"
   ]
  },
  {
   "cell_type": "code",
   "execution_count": 181,
   "metadata": {},
   "outputs": [
    {
     "data": {
      "text/plain": [
       "(9, 15, 10)"
      ]
     },
     "execution_count": 181,
     "metadata": {},
     "output_type": "execute_result"
    }
   ],
   "source": [
    "(wheels // 4, bodies, figures // 2)"
   ]
  },
  {
   "cell_type": "code",
   "execution_count": 217,
   "metadata": {},
   "outputs": [],
   "source": [
    "boxes = ([2, 3, 2], [6, 6, 7], [1, 2, 1])\n",
    "def total_volume(*boxes):\n",
    "    p = []\n",
    "    for i in boxes:\n",
    "         p.append(reduce(lambda x,y:x*y,i))\n",
    "    return sum(p)        \n",
    "\n",
    "\n",
    "      "
   ]
  },
  {
   "cell_type": "code",
   "execution_count": 222,
   "metadata": {},
   "outputs": [],
   "source": [
    "pin = '1234'\n",
    "def is_valid_PIN(pin):\n",
    "    if len(pin) ==4 or len(pin) ==6:\n",
    "        return pin.isdigit()\n",
    "    else:\n",
    "        return False\n",
    "\n",
    "    "
   ]
  },
  {
   "cell_type": "markdown",
   "metadata": {},
   "source": [
    "## WEEKEND ACTIVITY ON FUNCTIONS\n"
   ]
  },
  {
   "cell_type": "code",
   "execution_count": 224,
   "metadata": {},
   "outputs": [],
   "source": [
    "s= '1234abcd'\n",
    "def reverse(s):\n",
    "    return s[::-1]\n",
    "    \n",
    "    "
   ]
  },
  {
   "cell_type": "code",
   "execution_count": 233,
   "metadata": {},
   "outputs": [],
   "source": [
    "s= 'hbhWWWYabcd'\n",
    "def func(s):\n",
    "    k = 0\n",
    "    y =0\n",
    "    for i in s:\n",
    "        if i.islower():\n",
    "            k = k +1\n",
    "        if i.isupper():\n",
    "            y = y+1\n",
    "    print('lower=',k,'upper=',y)       \n",
    "    "
   ]
  },
  {
   "cell_type": "code",
   "execution_count": 235,
   "metadata": {},
   "outputs": [],
   "source": [
    "k = [1,2,3,44,5,5,6,6,6,7,7,]\n",
    "def func(k):\n",
    "    return  list(set(k))\n",
    "    "
   ]
  },
  {
   "cell_type": "code",
   "execution_count": 296,
   "metadata": {},
   "outputs": [],
   "source": [
    "s= 'h-b-h-WW-W-Yabcd'\n",
    "def func(s):\n",
    "    s = s.replace('-',',')\n",
    "    s= list(s)\n",
    "    s= sorted(s)\n",
    "    return s "
   ]
  },
  {
   "cell_type": "code",
   "execution_count": 309,
   "metadata": {},
   "outputs": [],
   "source": [
    "s= 'Hello world'\n",
    "def func(s):\n",
    "    k = [i.capitalize() for i in s]\n",
    "    k = ''.join(k)\n",
    "    return k \n"
   ]
  },
  {
   "cell_type": "code",
   "execution_count": 311,
   "metadata": {},
   "outputs": [],
   "source": [
    "n =\"5\"\n",
    "y = \"6\"\n",
    "def func(n,y):\n",
    "    n = int(n)\n",
    "    y = int(y)\n",
    "    return n + y\n",
    "    "
   ]
  },
  {
   "cell_type": "code",
   "execution_count": 321,
   "metadata": {},
   "outputs": [],
   "source": [
    "n =\"dscsdcfewcw\"\n",
    "y = \"dscscjnjnjj\"\n",
    "def func(n,y):\n",
    "    if len(n) == len(y):\n",
    "        print(n,y)\n",
    "    if len(n)> len(y):\n",
    "        print(n)\n",
    "    else:\n",
    "        print(y)"
   ]
  },
  {
   "cell_type": "code",
   "execution_count": 331,
   "metadata": {},
   "outputs": [],
   "source": [
    "n = 20\n",
    "def func(n):\n",
    "    k = []\n",
    "    for i in range(1,n+1):\n",
    "        k.append(i*i)\n",
    "    return tuple(k)"
   ]
  },
  {
   "cell_type": "code",
   "execution_count": 338,
   "metadata": {},
   "outputs": [],
   "source": [
    "limit = 3\n",
    "def showNumbers(limit):\n",
    "    for i in range(1,limit +1):\n",
    "        if i%2==0:\n",
    "            print(i,'even')\n",
    "        else:\n",
    "            print(i,'odd')\n",
    "            \n",
    "        \n",
    "    "
   ]
  },
  {
   "cell_type": "code",
   "execution_count": 342,
   "metadata": {},
   "outputs": [],
   "source": [
    "k = []\n",
    "for i in range(1,21):\n",
    "    k.append(i)\n",
    "M = list(filter(lambda x:x%2==0,k))    "
   ]
  },
  {
   "cell_type": "code",
   "execution_count": 352,
   "metadata": {},
   "outputs": [],
   "source": [
    "k = [1,2,3,4,5,6,7,8,9,10]\n",
    "M= list(map(lambda x: x**2,(filter(lambda x:x%2==0,k))))"
   ]
  },
  {
   "cell_type": "code",
   "execution_count": 355,
   "metadata": {},
   "outputs": [],
   "source": [
    "from functools import reduce \n",
    "k =[[1,2,3],[4,5],[6,7,8]] \n",
    "M = reduce(lambda x,y:x+y,k)"
   ]
  },
  {
   "cell_type": "code",
   "execution_count": 357,
   "metadata": {},
   "outputs": [
    {
     "name": "stdout",
     "output_type": "stream",
     "text": [
      "2\n"
     ]
    }
   ],
   "source": [
    "def foo():\n",
    "    try:\n",
    "        return 1\n",
    "    finally:\n",
    "        return 2\n",
    "k = foo()\n",
    "print(k)\n"
   ]
  },
  {
   "cell_type": "markdown",
   "metadata": {},
   "source": [
    "# TASK FOUR: HIGHER ORDER FUNCTIONS, GENERATORS, LIST COMPREHENSION AND DECORATOR"
   ]
  },
  {
   "cell_type": "code",
   "execution_count": 2,
   "metadata": {},
   "outputs": [],
   "source": [
    "k = list(filter(lambda x: x%7==0 and x%3!=0,range(100)))"
   ]
  },
  {
   "cell_type": "code",
   "execution_count": 13,
   "metadata": {},
   "outputs": [],
   "source": [
    "k = [1,2,3,4,5]\n",
    "def func(k):\n",
    "    for i in k:\n",
    "        (i*i)\n",
    "k = list(map(lambda x:func(k),k))      "
   ]
  },
  {
   "cell_type": "code",
   "execution_count": 18,
   "metadata": {},
   "outputs": [
    {
     "name": "stdout",
     "output_type": "stream",
     "text": [
      "please enter stringdcdscKKM\n"
     ]
    },
    {
     "data": {
      "text/plain": [
       "['K', 'K', 'M']"
      ]
     },
     "execution_count": 18,
     "metadata": {},
     "output_type": "execute_result"
    }
   ],
   "source": [
    "x=input(\"please enter string\")\n",
    "k  = [ i for i in x if i.isupper()]\n",
    "k"
   ]
  },
  {
   "cell_type": "code",
   "execution_count": 20,
   "metadata": {},
   "outputs": [
    {
     "name": "stdout",
     "output_type": "stream",
     "text": [
      "{'Smit': 'CSE', 'Jaya': 'Networking', 'Rayyan': 'Operating System'}\n"
     ]
    }
   ],
   "source": [
    "Student = ['Smit', 'Jaya', 'Rayyan']\n",
    "capital = ['CSE', 'Networking', 'Operating System']\n",
    "\n",
    "initiald = list(zip(Student,capital))\n",
    "final_d = { k:v for k,v in initiald }\n",
    "print(final_d)\n"
   ]
  },
  {
   "cell_type": "code",
   "execution_count": 28,
   "metadata": {},
   "outputs": [
    {
     "name": "stdout",
     "output_type": "stream",
     "text": [
      "['g', 'n', 'i', 'n', 'i', 'a', 'r', 'T', ' ', 'd', 'd', 'a', 't', 'l', 'u', 's', 'n', 'o', 'C']\n"
     ]
    }
   ],
   "source": [
    "string= \"Consultadd Training\"\n",
    "\n",
    "def func(string):\n",
    "    return reversed((string))\n",
    "print (list(func(string)))\n"
   ]
  },
  {
   "cell_type": "markdown",
   "metadata": {},
   "source": [
    "# TASK FIVE: FILE HANDLING AND EXCEPTION HANDLING\n"
   ]
  },
  {
   "cell_type": "code",
   "execution_count": 34,
   "metadata": {},
   "outputs": [],
   "source": [
    "def func():\n",
    "    try:\n",
    "        random = 'shreyak' + shreyak\n",
    "        print(random)\n",
    "    except:\n",
    "        print('you cannot do this')\n"
   ]
  },
  {
   "cell_type": "code",
   "execution_count": 41,
   "metadata": {},
   "outputs": [],
   "source": [
    "#try:\n",
    "     #with open( \"a.txt\" ) as f :\n",
    "       # print(f.readlines())\n",
    "    #except Exception:\n",
    "        #print('not found')"
   ]
  },
  {
   "cell_type": "code",
   "execution_count": 45,
   "metadata": {},
   "outputs": [],
   "source": [
    "def func():\n",
    "    f = str(input('Please enter a username:'))\n",
    "    while len(str(f)) > 4:\n",
    "        k = str(input('Please length is too long!!! Please provide only four digits:'))\n",
    "    return k"
   ]
  },
  {
   "cell_type": "code",
   "execution_count": null,
   "metadata": {},
   "outputs": [],
   "source": []
  },
  {
   "cell_type": "code",
   "execution_count": null,
   "metadata": {},
   "outputs": [],
   "source": []
  }
 ],
 "metadata": {
  "kernelspec": {
   "display_name": "Python 3",
   "language": "python",
   "name": "python3"
  },
  "language_info": {
   "codemirror_mode": {
    "name": "ipython",
    "version": 3
   },
   "file_extension": ".py",
   "mimetype": "text/x-python",
   "name": "python",
   "nbconvert_exporter": "python",
   "pygments_lexer": "ipython3",
   "version": "3.7.3"
  }
 },
 "nbformat": 4,
 "nbformat_minor": 2
}
